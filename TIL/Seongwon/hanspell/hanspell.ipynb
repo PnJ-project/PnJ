{
 "cells": [
  {
   "cell_type": "code",
   "execution_count": 1,
   "metadata": {},
   "outputs": [
    {
     "name": "stdout",
     "output_type": "stream",
     "text": [
      "c:\\Users\\SSAFY\\Desktop\\hanspell\\py-hanspell-master\n"
     ]
    }
   ],
   "source": [
    "cd py-hanspell-master\n"
   ]
  },
  {
   "cell_type": "code",
   "execution_count": 2,
   "metadata": {},
   "outputs": [
    {
     "name": "stdout",
     "output_type": "stream",
     "text": [
      "running install\n",
      "running bdist_egg\n",
      "running egg_info\n",
      "writing py_hanspell.egg-info\\PKG-INFO\n",
      "writing dependency_links to py_hanspell.egg-info\\dependency_links.txt\n",
      "writing requirements to py_hanspell.egg-info\\requires.txt\n",
      "writing top-level names to py_hanspell.egg-info\\top_level.txt\n",
      "reading manifest file 'py_hanspell.egg-info\\SOURCES.txt'\n",
      "adding license file 'LICENSE'\n",
      "writing manifest file 'py_hanspell.egg-info\\SOURCES.txt'\n",
      "installing library code to build\\bdist.win-amd64\\egg\n",
      "running install_lib\n",
      "running build_py\n",
      "creating build\\bdist.win-amd64\\egg\n",
      "creating build\\bdist.win-amd64\\egg\\hanspell\n",
      "copying build\\lib\\hanspell\\constants.py -> build\\bdist.win-amd64\\egg\\hanspell\n",
      "copying build\\lib\\hanspell\\response.py -> build\\bdist.win-amd64\\egg\\hanspell\n",
      "copying build\\lib\\hanspell\\spell_checker.py -> build\\bdist.win-amd64\\egg\\hanspell\n",
      "copying build\\lib\\hanspell\\__init__.py -> build\\bdist.win-amd64\\egg\\hanspell\n",
      "byte-compiling build\\bdist.win-amd64\\egg\\hanspell\\constants.py to constants.cpython-311.pyc\n",
      "byte-compiling build\\bdist.win-amd64\\egg\\hanspell\\response.py to response.cpython-311.pyc\n",
      "byte-compiling build\\bdist.win-amd64\\egg\\hanspell\\spell_checker.py to spell_checker.cpython-311.pyc\n",
      "byte-compiling build\\bdist.win-amd64\\egg\\hanspell\\__init__.py to __init__.cpython-311.pyc\n",
      "creating build\\bdist.win-amd64\\egg\\EGG-INFO\n",
      "copying py_hanspell.egg-info\\PKG-INFO -> build\\bdist.win-amd64\\egg\\EGG-INFO\n",
      "copying py_hanspell.egg-info\\SOURCES.txt -> build\\bdist.win-amd64\\egg\\EGG-INFO\n",
      "copying py_hanspell.egg-info\\dependency_links.txt -> build\\bdist.win-amd64\\egg\\EGG-INFO\n",
      "copying py_hanspell.egg-info\\requires.txt -> build\\bdist.win-amd64\\egg\\EGG-INFO\n",
      "copying py_hanspell.egg-info\\top_level.txt -> build\\bdist.win-amd64\\egg\\EGG-INFO\n",
      "creating 'dist\\py_hanspell-1.1-py3.11.egg' and adding 'build\\bdist.win-amd64\\egg' to it\n",
      "removing 'build\\bdist.win-amd64\\egg' (and everything under it)\n",
      "Processing py_hanspell-1.1-py3.11.egg\n",
      "Removing c:\\users\\ssafy\\appdata\\local\\programs\\python\\python311\\lib\\site-packages\\py_hanspell-1.1-py3.11.egg\n"
     ]
    },
    {
     "name": "stderr",
     "output_type": "stream",
     "text": [
      "c:\\Users\\SSAFY\\AppData\\Local\\Programs\\Python\\Python311\\Lib\\site-packages\\setuptools\\dist.py:771: UserWarning: Usage of dash-separated 'description-file' will not be supported in future versions. Please use the underscore name 'description_file' instead\n",
      "  warnings.warn(\n",
      "c:\\Users\\SSAFY\\AppData\\Local\\Programs\\Python\\Python311\\Lib\\site-packages\\setuptools\\command\\install.py:34: SetuptoolsDeprecationWarning: setup.py install is deprecated. Use build and pip and other standards-based tools.\n",
      "  warnings.warn(\n",
      "c:\\Users\\SSAFY\\AppData\\Local\\Programs\\Python\\Python311\\Lib\\site-packages\\setuptools\\command\\easy_install.py:144: EasyInstallDeprecationWarning: easy_install command is deprecated. Use build and pip and other standards-based tools.\n",
      "  warnings.warn(\n",
      "zip_safe flag not set; analyzing archive contents...\n",
      "error: [WinError 32] 다른 프로세스가 파일을 사용 중이기 때문에 프로세스가 액세스 할 수 없습니다: 'c:\\\\users\\\\ssafy\\\\appdata\\\\local\\\\programs\\\\python\\\\python311\\\\lib\\\\site-packages\\\\py_hanspell-1.1-py3.11.egg'\n"
     ]
    }
   ],
   "source": [
    "!python setup.py install\n"
   ]
  },
  {
   "cell_type": "code",
   "execution_count": 3,
   "metadata": {},
   "outputs": [
    {
     "name": "stdout",
     "output_type": "stream",
     "text": [
      "Requirement already satisfied: requests in c:\\users\\ssafy\\appdata\\local\\programs\\python\\python311\\lib\\site-packages\\requests-2.31.0-py3.11.egg (2.31.0)\n",
      "Requirement already satisfied: charset-normalizer<4,>=2 in c:\\users\\ssafy\\appdata\\local\\programs\\python\\python311\\lib\\site-packages\\charset_normalizer-3.3.1-py3.11-win-amd64.egg (from requests) (3.3.1)\n",
      "Requirement already satisfied: idna<4,>=2.5 in c:\\users\\ssafy\\appdata\\local\\programs\\python\\python311\\lib\\site-packages\\idna-3.4-py3.11.egg (from requests) (3.4)\n",
      "Requirement already satisfied: urllib3<3,>=1.21.1 in c:\\users\\ssafy\\appdata\\local\\programs\\python\\python311\\lib\\site-packages\\urllib3-2.0.7-py3.11.egg (from requests) (2.0.7)\n",
      "Requirement already satisfied: certifi>=2017.4.17 in c:\\users\\ssafy\\appdata\\local\\programs\\python\\python311\\lib\\site-packages\\certifi-2023.7.22-py3.11.egg (from requests) (2023.7.22)\n",
      "Note: you may need to restart the kernel to use updated packages.\n"
     ]
    },
    {
     "name": "stderr",
     "output_type": "stream",
     "text": [
      "DEPRECATION: Loading egg at c:\\users\\ssafy\\appdata\\local\\programs\\python\\python311\\lib\\site-packages\\certifi-2023.7.22-py3.11.egg is deprecated. pip 24.3 will enforce this behaviour change. A possible replacement is to use pip for package installation.. Discussion can be found at https://github.com/pypa/pip/issues/12330\n",
      "DEPRECATION: Loading egg at c:\\users\\ssafy\\appdata\\local\\programs\\python\\python311\\lib\\site-packages\\charset_normalizer-3.3.1-py3.11-win-amd64.egg is deprecated. pip 24.3 will enforce this behaviour change. A possible replacement is to use pip for package installation.. Discussion can be found at https://github.com/pypa/pip/issues/12330\n",
      "DEPRECATION: Loading egg at c:\\users\\ssafy\\appdata\\local\\programs\\python\\python311\\lib\\site-packages\\idna-3.4-py3.11.egg is deprecated. pip 24.3 will enforce this behaviour change. A possible replacement is to use pip for package installation.. Discussion can be found at https://github.com/pypa/pip/issues/12330\n",
      "DEPRECATION: Loading egg at c:\\users\\ssafy\\appdata\\local\\programs\\python\\python311\\lib\\site-packages\\py_hanspell-1.1-py3.11.egg is deprecated. pip 24.3 will enforce this behaviour change. A possible replacement is to use pip for package installation.. Discussion can be found at https://github.com/pypa/pip/issues/12330\n",
      "DEPRECATION: Loading egg at c:\\users\\ssafy\\appdata\\local\\programs\\python\\python311\\lib\\site-packages\\requests-2.31.0-py3.11.egg is deprecated. pip 24.3 will enforce this behaviour change. A possible replacement is to use pip for package installation.. Discussion can be found at https://github.com/pypa/pip/issues/12330\n",
      "DEPRECATION: Loading egg at c:\\users\\ssafy\\appdata\\local\\programs\\python\\python311\\lib\\site-packages\\urllib3-2.0.7-py3.11.egg is deprecated. pip 24.3 will enforce this behaviour change. A possible replacement is to use pip for package installation.. Discussion can be found at https://github.com/pypa/pip/issues/12330\n"
     ]
    }
   ],
   "source": [
    "pip install requests\n"
   ]
  },
  {
   "cell_type": "code",
   "execution_count": 14,
   "metadata": {},
   "outputs": [
    {
     "name": "stdout",
     "output_type": "stream",
     "text": [
      "15알에 성원이랑 떡볶이\n"
     ]
    }
   ],
   "source": [
    "from hanspell import spell_checker\n",
    "\n",
    "# -*- coding: utf-8 -*-\n",
    "from collections import namedtuple\n",
    "import requests\n",
    "import json\n",
    "import time\n",
    "import sys\n",
    "from collections import OrderedDict\n",
    "import xml.etree.ElementTree as ET\n",
    "\n",
    "base_url = 'https://m.search.naver.com/p/csearch/ocontent/util/SpellerProxy'\n",
    "\n",
    "class CheckResult:\n",
    "    PASSED = 0\n",
    "    WRONG_SPELLING = 1\n",
    "    WRONG_SPACING = 2\n",
    "    AMBIGUOUS = 3\n",
    "    STATISTICAL_CORRECTION = 4\n",
    "\n",
    "_checked = namedtuple('Checked',\n",
    "    ['result', 'original', 'checked', 'errors', 'words', 'time'])\n",
    "\n",
    "class Checked(_checked):\n",
    "    def __new__(cls, result=False, original='', checked='', errors=0, words=[], time=0.0):\n",
    "        return super(Checked, cls).__new__(\n",
    "            cls, result, original, checked, errors, words, time)\n",
    "\n",
    "    def as_dict(self):\n",
    "        d = {\n",
    "            'result': self.result,\n",
    "            'original': self.original,\n",
    "            'checked': self.checked,\n",
    "            'errors': self.errors,\n",
    "            'words': self.words,\n",
    "            'time': self.time,\n",
    "        }\n",
    "        return d\n",
    "\n",
    "    def only_checked(self):\n",
    "        return self.checked\n",
    "\n",
    "_agent = requests.Session()\n",
    "PY3 = sys.version_info[0] == 3\n",
    "\n",
    "def _remove_tags(text):\n",
    "    text = u'<content>{}</content>'.format(text).replace('<br>','')\n",
    "    if not PY3:\n",
    "        text = text.encode('utf-8')\n",
    "\n",
    "    result = ''.join(ET.fromstring(text).itertext())\n",
    "\n",
    "    return result\n",
    "\n",
    "\n",
    "def check(text):\n",
    "    if isinstance(text, list):\n",
    "        result = []\n",
    "        for item in text:\n",
    "            checked = check(item)\n",
    "            result.append(checked)\n",
    "        return result\n",
    "    # 300 자로 수정함\n",
    "    if len(text) > 300:\n",
    "        return Checked(result=False)\n",
    "    \n",
    "    # passportkey, callback 직접 가져옴\n",
    "    payload = { \n",
    "        'passportKey': 'f293ec23e93c390c5ca0bbff1ab129da6f96ae75', \n",
    "        '_callback': 'jQuery11240276810914717724_1698049775981',\n",
    "        'q': text,\n",
    "        'color_blindness': '0' } \n",
    "\n",
    "\n",
    "    headers = {\n",
    "        'user-agent': 'Mozilla/5.0 (Windows NT 10.0; Win64; x64) AppleWebKit/537.36 (KHTML, like Gecko) Chrome/57.0.2987.133 Safari/537.36',\n",
    "        'referer': 'https://search.naver.com/',\n",
    "    }\n",
    "\n",
    "    start_time = time.time()\n",
    "    r = _agent.get(base_url, params=payload, headers=headers)\n",
    "    passed_time = time.time() - start_time\n",
    "    r = r.text\n",
    "    json_str = r[r.find('{'): -2]\n",
    "    json_data = json.loads(json_str)\n",
    "    data = json_data['message']['result']['html']\n",
    "    result = {\n",
    "        'result': True,\n",
    "        'original': text,\n",
    "        'checked': _remove_tags(data),\n",
    "        'errors': json_data['message']['result']['errata_count'],\n",
    "        'time': passed_time,\n",
    "        'words': OrderedDict(),\n",
    "    }\n",
    "\n",
    "    data = data.replace('<em class=\\'green_text\\'>', '<green>') \\\n",
    "               .replace('<em class=\\'red_text\\'>', '<red>') \\\n",
    "               .replace('<em class=\\'violet_text\\'>', '<violet>') \\\n",
    "               .replace('<em class=\\'blue_text\\'>', '<blue>') \\\n",
    "               .replace('</em>', '<end>')\n",
    "    items = data.split(' ')\n",
    "    words = []\n",
    "    tmp = ''\n",
    "    for word in items:\n",
    "        if tmp == '' and word[:1] == '<':\n",
    "            pos = word.find('>') + 1\n",
    "            tmp = word[:pos]\n",
    "        elif tmp != '':\n",
    "            word = u'{}{}'.format(tmp, word)\n",
    "        \n",
    "        if word[-5:] == '<end>':\n",
    "            word = word.replace('<end>', '')\n",
    "            tmp = ''\n",
    "\n",
    "        words.append(word)\n",
    "\n",
    "    for word in words:\n",
    "        check_result = CheckResult.PASSED\n",
    "        if word[:5] == '<red>':\n",
    "            check_result = CheckResult.WRONG_SPELLING\n",
    "            word = word.replace('<red>', '')\n",
    "        elif word[:7] == '<green>':\n",
    "            check_result = CheckResult.WRONG_SPACING\n",
    "            word = word.replace('<green>', '')\n",
    "        elif word[:8] == '<violet>':\n",
    "            check_result = CheckResult.AMBIGUOUS\n",
    "            word = word.replace('<violet>', '')\n",
    "        elif word[:6] == '<blue>':\n",
    "            check_result = CheckResult.STATISTICAL_CORRECTION\n",
    "            word = word.replace('<blue>', '')\n",
    "        result['words'][word] = check_result\n",
    "\n",
    "    result = Checked(**result)\n",
    "\n",
    "    return result\n",
    "\n",
    "if '__main__':\n",
    "    text = \"15알에성원이랑떡보끼\"\n",
    "    hanspell_sent = check(text)\n",
    "    print(hanspell_sent.checked)"
   ]
  }
 ],
 "metadata": {
  "kernelspec": {
   "display_name": "Python 3",
   "language": "python",
   "name": "python3"
  },
  "language_info": {
   "codemirror_mode": {
    "name": "ipython",
    "version": 3
   },
   "file_extension": ".py",
   "mimetype": "text/x-python",
   "name": "python",
   "nbconvert_exporter": "python",
   "pygments_lexer": "ipython3",
   "version": "3.11.4"
  }
 },
 "nbformat": 4,
 "nbformat_minor": 2
}
